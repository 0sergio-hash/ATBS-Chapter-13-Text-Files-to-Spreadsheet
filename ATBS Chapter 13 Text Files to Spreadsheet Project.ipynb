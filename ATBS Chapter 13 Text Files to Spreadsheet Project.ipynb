{
 "cells": [
  {
   "cell_type": "markdown",
   "metadata": {},
   "source": [
    "# [Instructions for this project](https://automatetheboringstuff.com/2e/chapter13/)"
   ]
  },
  {
   "cell_type": "code",
   "execution_count": 1,
   "metadata": {},
   "outputs": [],
   "source": [
    "#! python3\n",
    "# Project: Text Files to Spreadsheet\n",
    "def writeText(folder):\n",
    "\n",
    "    import openpyxl, sys\n",
    "    from openpyxl.styles import Font\n",
    "    from openpyxl.utils import get_column_letter , column_index_from_string\n",
    "    import os\n",
    "    from pathlib import Path\n",
    "\n",
    "    folderPath = Path(os.path.abspath(folder)) # Make sure folder is absolute\n",
    "    print(f'Writing text files in {folderPath} to a spreadsheet...')\n",
    "\n",
    "    # Navigate to folder containing text files\n",
    "    os.chdir(folderPath)\n",
    "    \n",
    "    # Create an excel file\n",
    "    wb = openpyxl.Workbook()\n",
    "    sheet = wb.active\n",
    "\n",
    "    # Loop over files\n",
    "    textFiles = list(folderPath.glob('*.txt'))\n",
    "    \n",
    "    \n",
    "    for fileNum, file in enumerate(textFiles): #for each file in the list:\n",
    "        \n",
    "        # Record iteration num as column number\n",
    "        colNum = fileNum + 1\n",
    " \n",
    "        # Open the file\n",
    "        doc = open(file)\n",
    "        \n",
    "        # Loop over lines using readlines() \n",
    "        docLines = doc.readlines()\n",
    "        for lineNum, line in enumerate(docLines): #for each line:\n",
    "\n",
    "            # Record iteration as row number \n",
    "            rowNum = lineNum + 1\n",
    "            \n",
    "            # Put column number and row number together as coordinates for this line \n",
    "            lineCoords = get_column_letter(colNum) + str(rowNum)\n",
    "\n",
    "            # TODO: Write contents to spreadsheet\n",
    "            sheet[lineCoords] = line\n",
    "\n",
    "        # Close the file\n",
    "        doc.close()\n",
    "    \n",
    "    # Name the new workbook\n",
    "    wbName = f'{folder} folder text files converted.xlsx'\n",
    "    \n",
    "    # Save the excel file\n",
    "    wb.save(wbName)\n",
    "    \n",
    "    print(f'{wbName} saved to the folder!')"
   ]
  },
  {
   "cell_type": "code",
   "execution_count": 2,
   "metadata": {},
   "outputs": [
    {
     "name": "stdout",
     "output_type": "stream",
     "text": [
      "Writing text files in C:\\Users\\Administrator.Sergio-PC\\Text to a spreadsheet...\n",
      "Text folder text files converted.xlsx saved to the folder!\n"
     ]
    }
   ],
   "source": [
    "writeText('Text')"
   ]
  },
  {
   "cell_type": "code",
   "execution_count": null,
   "metadata": {},
   "outputs": [],
   "source": []
  }
 ],
 "metadata": {
  "kernelspec": {
   "display_name": "ibm_project",
   "language": "python",
   "name": "ibm_project"
  },
  "language_info": {
   "codemirror_mode": {
    "name": "ipython",
    "version": 3
   },
   "file_extension": ".py",
   "mimetype": "text/x-python",
   "name": "python",
   "nbconvert_exporter": "python",
   "pygments_lexer": "ipython3",
   "version": "3.7.9"
  }
 },
 "nbformat": 4,
 "nbformat_minor": 4
}
